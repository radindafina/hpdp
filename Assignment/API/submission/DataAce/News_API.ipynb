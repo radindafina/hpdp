{
  "nbformat": 4,
  "nbformat_minor": 0,
  "metadata": {
    "colab": {
      "provenance": [],
      "include_colab_link": true
    },
    "kernelspec": {
      "name": "python3",
      "display_name": "Python 3"
    },
    "language_info": {
      "name": "python"
    }
  },
  "cells": [
    {
      "cell_type": "markdown",
      "metadata": {
        "id": "view-in-github",
        "colab_type": "text"
      },
      "source": [
        "<a href=\"https://colab.research.google.com/github/radindafina/HPDP/blob/main/Assignment/API/submission/DataAce/News_API.ipynb\" target=\"_parent\"><img src=\"https://colab.research.google.com/assets/colab-badge.svg\" alt=\"Open In Colab\"/></a>"
      ]
    },
    {
      "cell_type": "code",
      "source": [
        "from google.colab import drive\n",
        "drive.mount('/content/drive')"
      ],
      "metadata": {
        "colab": {
          "base_uri": "https://localhost:8080/"
        },
        "id": "oR-kHqPyJcQZ",
        "outputId": "9af79b18-e24d-4df7-e1fd-914bb458b34e"
      },
      "execution_count": 28,
      "outputs": [
        {
          "output_type": "stream",
          "name": "stdout",
          "text": [
            "Drive already mounted at /content/drive; to attempt to forcibly remount, call drive.mount(\"/content/drive\", force_remount=True).\n"
          ]
        }
      ]
    },
    {
      "cell_type": "code",
      "execution_count": 29,
      "metadata": {
        "id": "U2e9z9gu_nfT"
      },
      "outputs": [],
      "source": [
        "import requests"
      ]
    },
    {
      "cell_type": "code",
      "source": [
        "import csv"
      ],
      "metadata": {
        "id": "0-FQlH__D9PD"
      },
      "execution_count": 30,
      "outputs": []
    },
    {
      "cell_type": "code",
      "source": [
        "pip install newsapi-python"
      ],
      "metadata": {
        "colab": {
          "base_uri": "https://localhost:8080/"
        },
        "id": "rmbjgoCWAHQL",
        "outputId": "039d2cb9-13d5-43b5-93d5-3d84e3ea1d9d"
      },
      "execution_count": 31,
      "outputs": [
        {
          "output_type": "stream",
          "name": "stdout",
          "text": [
            "Looking in indexes: https://pypi.org/simple, https://us-python.pkg.dev/colab-wheels/public/simple/\n",
            "Requirement already satisfied: newsapi-python in /usr/local/lib/python3.9/dist-packages (0.2.7)\n",
            "Requirement already satisfied: requests<3.0.0 in /usr/local/lib/python3.9/dist-packages (from newsapi-python) (2.27.1)\n",
            "Requirement already satisfied: charset-normalizer~=2.0.0 in /usr/local/lib/python3.9/dist-packages (from requests<3.0.0->newsapi-python) (2.0.12)\n",
            "Requirement already satisfied: idna<4,>=2.5 in /usr/local/lib/python3.9/dist-packages (from requests<3.0.0->newsapi-python) (3.4)\n",
            "Requirement already satisfied: certifi>=2017.4.17 in /usr/local/lib/python3.9/dist-packages (from requests<3.0.0->newsapi-python) (2022.12.7)\n",
            "Requirement already satisfied: urllib3<1.27,>=1.21.1 in /usr/local/lib/python3.9/dist-packages (from requests<3.0.0->newsapi-python) (1.26.15)\n"
          ]
        }
      ]
    },
    {
      "cell_type": "code",
      "source": [
        "from newsapi import NewsApiClient"
      ],
      "metadata": {
        "id": "cd9idl8HAoBR"
      },
      "execution_count": 32,
      "outputs": []
    },
    {
      "cell_type": "code",
      "source": [
        "newsapi = NewsApiClient(api_key='83bd643d7f9a468dabb080d927f260b3')"
      ],
      "metadata": {
        "id": "ddoBxp87AzND"
      },
      "execution_count": 49,
      "outputs": []
    },
    {
      "cell_type": "code",
      "source": [
        "url = ('https://newsapi.org/v2/top-headlines?country=my&apiKey=83bd643d7f9a468dabb080d927f260b3')\n",
        "response = requests.get(url)\n",
        "data = response.json()\n",
        "print (data)"
      ],
      "metadata": {
        "colab": {
          "base_uri": "https://localhost:8080/"
        },
        "id": "hlvNAtSEA8a6",
        "outputId": "46f71e93-86e9-4cac-a62c-3881caf13e24"
      },
      "execution_count": 34,
      "outputs": [
        {
          "output_type": "stream",
          "name": "stdout",
          "text": [
            "{'status': 'ok', 'totalResults': 38, 'articles': [{'source': {'id': 'google-news', 'name': 'Google News'}, 'author': 'New Straits Times', 'title': 'MMA says minister reluctantly signed off on nicotine exemption for vape tax - MMA - New Straits Times', 'description': None, 'url': 'https://news.google.com/rss/articles/CBMidmh0dHBzOi8vd3d3Lm5zdC5jb20ubXkvbmV3cy9uYXRpb24vMjAyMy8wNC84OTc1MTAvbW1hLXNheXMtbWluaXN0ZXItcmVsdWN0YW50bHktc2lnbmVkLW5pY290aW5lLWV4ZW1wdGlvbi12YXBlLXRheC1tbWHSAXpodHRwczovL3d3dy5uc3QuY29tLm15L2FtcC9uZXdzL25hdGlvbi8yMDIzLzA0Lzg5NzUxMC9tbWEtc2F5cy1taW5pc3Rlci1yZWx1Y3RhbnRseS1zaWduZWQtbmljb3RpbmUtZXhlbXB0aW9uLXZhcGUtdGF4LW1tYQ?oc=5', 'urlToImage': None, 'publishedAt': '2023-04-08T01:54:18Z', 'content': None}, {'source': {'id': 'google-news', 'name': 'Google News'}, 'author': 'Malaysiakini', 'title': 'First 2023 Dewan Rakyat sitting: PN tops attendance rate - Malaysiakini', 'description': None, 'url': 'https://news.google.com/rss/articles/CBMiKGh0dHBzOi8vd3d3Lm1hbGF5c2lha2luaS5jb20vbmV3cy82NjE0OTPSAQA?oc=5', 'urlToImage': None, 'publishedAt': '2023-04-08T01:45:04Z', 'content': None}, {'source': {'id': 'google-news', 'name': 'Google News'}, 'author': 'IGN', 'title': 'Resident Evil 4 Remake Gets Pay-to-Win DLC - IGN Daily Fix - IGN', 'description': None, 'url': 'https://news.google.com/rss/articles/CCAiC3VJRDd2QjRXVnpNmAEB?oc=5', 'urlToImage': None, 'publishedAt': '2023-04-07T23:57:48Z', 'content': None}, {'source': {'id': 'google-news', 'name': 'Google News'}, 'author': 'Malaysiakini', 'title': 'Covid-19 spike in education cluster under control, says minister - Malaysiakini', 'description': None, 'url': 'https://news.google.com/rss/articles/CBMiKGh0dHBzOi8vd3d3Lm1hbGF5c2lha2luaS5jb20vbmV3cy82NjE0ODbSAQA?oc=5', 'urlToImage': None, 'publishedAt': '2023-04-07T23:30:56Z', 'content': None}, {'source': {'id': 'google-news', 'name': 'Google News'}, 'author': 'The Star Online', 'title': 'Football: Lira is gaining currency in Kedah - The Star Online', 'description': None, 'url': 'https://news.google.com/rss/articles/CBMiVmh0dHBzOi8vd3d3LnRoZXN0YXIuY29tLm15L3Nwb3J0L2Zvb3RiYWxsLzIwMjMvMDQvMDgvbGlyYS1pcy1nYWluaW5nLWN1cnJlbmN5LWluLWtlZGFo0gEA?oc=5', 'urlToImage': None, 'publishedAt': '2023-04-07T23:12:45Z', 'content': None}, {'source': {'id': 'google-news', 'name': 'Google News'}, 'author': 'Revyuh', 'title': 'The World’s Sexiest Fragrance Unveiled, But It’s Not For You - Revyuh', 'description': None, 'url': 'https://news.google.com/rss/articles/CBMiY2h0dHBzOi8vd3d3LnJldnl1aC5jb20vdG9wLW5ld3MvZmVhdHVyZWQvdGhlLXdvcmxkcy1zZXhpZXN0LWZyYWdyYW5jZS11bnZlaWxlZC1idXQtaXRzLW5vdC1mb3IteW91L9IBZ2h0dHBzOi8vd3d3LnJldnl1aC5jb20vdG9wLW5ld3MvZmVhdHVyZWQvdGhlLXdvcmxkcy1zZXhpZXN0LWZyYWdyYW5jZS11bnZlaWxlZC1idXQtaXRzLW5vdC1mb3IteW91Lz9hbXA?oc=5', 'urlToImage': None, 'publishedAt': '2023-04-07T23:01:00Z', 'content': None}, {'source': {'id': 'google-news', 'name': 'Google News'}, 'author': 'The Star Online', 'title': 'I have proof, Anwar tells Dr M - The Star Online', 'description': None, 'url': 'https://news.google.com/rss/articles/CBMiT2h0dHBzOi8vd3d3LnRoZXN0YXIuY29tLm15L25ld3MvbmF0aW9uLzIwMjMvMDQvMDgvaS1oYXZlLXByb29mLWFud2FyLXRlbGxzLWRyLW3SAQA?oc=5', 'urlToImage': None, 'publishedAt': '2023-04-07T22:54:54Z', 'content': None}, {'source': {'id': 'google-news', 'name': 'Google News'}, 'author': 'Newswise', 'title': '“We were dancing around the lab” – cellular identity discovery has potential to impact cancer treatments - Newswise', 'description': None, 'url': 'https://news.google.com/rss/articles/CBMihgFodHRwczovL3d3dy5uZXdzd2lzZS5jb20vYXJ0aWNsZXMvd2Utd2VyZS1kYW5jaW5nLWFyb3VuZC10aGUtbGFiLWNlbGx1bGFyLWlkZW50aXR5LWRpc2NvdmVyeS1oYXMtcG90ZW50aWFsLXRvLWltcGFjdC1jYW5jZXItdHJlYXRtZW50c9IBhgFodHRwczovL3d3dy5uZXdzd2lzZS5jb20vYXJ0aWNsZXMvd2Utd2VyZS1kYW5jaW5nLWFyb3VuZC10aGUtbGFiLWNlbGx1bGFyLWlkZW50aXR5LWRpc2NvdmVyeS1oYXMtcG90ZW50aWFsLXRvLWltcGFjdC1jYW5jZXItdHJlYXRtZW50cw?oc=5', 'urlToImage': None, 'publishedAt': '2023-04-07T19:45:00Z', 'content': None}, {'source': {'id': 'google-news', 'name': 'Google News'}, 'author': 'Phys.org', 'title': \"How a worm's embryonic cells change its development potential - Phys.org\", 'description': None, 'url': 'https://news.google.com/rss/articles/CBMiQWh0dHBzOi8vcGh5cy5vcmcvbmV3cy8yMDIzLTA0LXdvcm0tZW1icnlvbmljLWNlbGxzLXBvdGVudGlhbC5odG1s0gFAaHR0cHM6Ly9waHlzLm9yZy9uZXdzLzIwMjMtMDQtd29ybS1lbWJyeW9uaWMtY2VsbHMtcG90ZW50aWFsLmFtcA?oc=5', 'urlToImage': None, 'publishedAt': '2023-04-07T18:00:03Z', 'content': None}, {'source': {'id': 'google-news', 'name': 'Google News'}, 'author': 'New Straits Times', 'title': 'Tang Jie-Ee Wei power into Orleans Open semis - New Straits Times', 'description': None, 'url': 'https://news.google.com/rss/articles/CBMiX2h0dHBzOi8vd3d3Lm5zdC5jb20ubXkvc3BvcnRzL2JhZG1pbnRvbi8yMDIzLzA0Lzg5NzQ3Mi90YW5nLWppZS1lZS13ZWktcG93ZXItb3JsZWFucy1vcGVuLXNlbWlz0gFjaHR0cHM6Ly93d3cubnN0LmNvbS5teS9hbXAvc3BvcnRzL2JhZG1pbnRvbi8yMDIzLzA0Lzg5NzQ3Mi90YW5nLWppZS1lZS13ZWktcG93ZXItb3JsZWFucy1vcGVuLXNlbWlz?oc=5', 'urlToImage': None, 'publishedAt': '2023-04-07T16:30:39Z', 'content': None}, {'source': {'id': 'google-news', 'name': 'Google News'}, 'author': 'Free Malaysia Today', 'title': \"Umno's royal pardon request for Najib won't hurt relations with PH, says Khaled - Free Malaysia Today\", 'description': None, 'url': 'https://news.google.com/rss/articles/CBMiigFodHRwczovL3d3dy5mcmVlbWFsYXlzaWF0b2RheS5jb20vY2F0ZWdvcnkvbmF0aW9uLzIwMjMvMDQvMDgvdW1ub3Mtcm95YWwtcGFyZG9uLXJlcXVlc3QtZm9yLW5hamliLXdvbnQtaHVydC1yZWxhdGlvbnMtd2l0aC1waC1zYXlzLWtoYWxlZC_SAQA?oc=5', 'urlToImage': None, 'publishedAt': '2023-04-07T16:02:12Z', 'content': None}, {'source': {'id': 'google-news', 'name': 'Google News'}, 'author': 'The Star Online', 'title': 'S Club 7 star Paul Cattermole dies at 46, months after reunion tour announcement - The Star Online', 'description': None, 'url': 'https://news.google.com/rss/articles/CBMijQFodHRwczovL3d3dy50aGVzdGFyLmNvbS5teS9saWZlc3R5bGUvZW50ZXJ0YWlubWVudC8yMDIzLzA0LzA3L3MtY2x1Yi03LXN0YXItcGF1bC1jYXR0ZXJtb2xlLWRpZXMtYXQtNDYtbW9udGhzLWFmdGVyLXJldW5pb24tdG91ci1hbm5vdW5jZW1lbnTSAQA?oc=5', 'urlToImage': None, 'publishedAt': '2023-04-07T15:13:00Z', 'content': None}, {'source': {'id': 'google-news', 'name': 'Google News'}, 'author': 'Healio', 'title': \"Biogen's investigational therapy reduced tau protein levels in patients with Alzheimer's - Healio\", 'description': None, 'url': 'https://news.google.com/rss/articles/CBMihQFodHRwczovL3d3dy5oZWFsaW8uY29tL25ld3MvbmV1cm9sb2d5LzIwMjMwNDA3L2Jpb2dlbnMtaW52ZXN0aWdhdGlvbmFsLXRoZXJhcHktcmVkdWNlZC10YXUtcHJvdGVpbi1sZXZlbHMtaW4tcGF0aWVudHMtd2l0aC1hbHpoZWltZXJz0gEA?oc=5', 'urlToImage': None, 'publishedAt': '2023-04-07T14:08:02Z', 'content': None}, {'source': {'id': 'google-news', 'name': 'Google News'}, 'author': 'Malaysiakini', 'title': '9,152 get interviews for permanent health worker positions - Malaysiakini', 'description': None, 'url': 'https://news.google.com/rss/articles/CBMiKGh0dHBzOi8vd3d3Lm1hbGF5c2lha2luaS5jb20vbmV3cy82NjE0NznSAQA?oc=5', 'urlToImage': None, 'publishedAt': '2023-04-07T13:29:57Z', 'content': None}, {'source': {'id': 'google-news', 'name': 'Google News'}, 'author': 'Malay Mail', 'title': 'You can now apply to work for Tesla in KL as it prepares for Malaysian launch - Malay Mail', 'description': None, 'url': 'https://news.google.com/rss/articles/CBMiigFodHRwczovL3d3dy5tYWxheW1haWwuY29tL25ld3MvdGVjaC1nYWRnZXRzLzIwMjMvMDQvMDcveW91LWNhbi1ub3ctYXBwbHktdG8td29yay1mb3ItdGVzbGEtaW4ta2wtYXMtaXQtcHJlcGFyZXMtZm9yLW1hbGF5c2lhbi1sYXVuY2gvNjM3NDPSAY4BaHR0cHM6Ly93d3cubWFsYXltYWlsLmNvbS9hbXAvbmV3cy90ZWNoLWdhZGdldHMvMjAyMy8wNC8wNy95b3UtY2FuLW5vdy1hcHBseS10by13b3JrLWZvci10ZXNsYS1pbi1rbC1hcy1pdC1wcmVwYXJlcy1mb3ItbWFsYXlzaWFuLWxhdW5jaC82Mzc0Mw?oc=5', 'urlToImage': None, 'publishedAt': '2023-04-07T13:07:15Z', 'content': None}, {'source': {'id': 'google-news', 'name': 'Google News'}, 'author': 'Malaysiakini', 'title': \"Iskandar film studio sold to S'pore firm after losing 90pct value - Malaysiakini\", 'description': None, 'url': 'https://news.google.com/rss/articles/CBMiKGh0dHBzOi8vd3d3Lm1hbGF5c2lha2luaS5jb20vbmV3cy82NjE0NzfSAQA?oc=5', 'urlToImage': None, 'publishedAt': '2023-04-07T13:01:56Z', 'content': None}, {'source': {'id': 'google-news', 'name': 'Google News'}, 'author': 'HC Newsroom', 'title': 'These 7 devices receiving stable HarmonyOS 3 - HC Newsroom', 'description': None, 'url': 'https://news.google.com/rss/articles/CBMiS2h0dHBzOi8vd3d3Lmh1YXdlaWNlbnRyYWwuY29tL3RoZXNlLTctZGV2aWNlcy1yZWNlaXZpbmctc3RhYmxlLWhhcm1vbnlvcy0zL9IBAA?oc=5', 'urlToImage': None, 'publishedAt': '2023-04-07T12:33:04Z', 'content': None}, {'source': {'id': 'google-news', 'name': 'Google News'}, 'author': 'Malaysiakini', 'title': 'Swift action prevents water disruption as Selangor river turns blue - Malaysiakini', 'description': None, 'url': 'https://news.google.com/rss/articles/CBMiKGh0dHBzOi8vd3d3Lm1hbGF5c2lha2luaS5jb20vbmV3cy82NjE0NzTSAQA?oc=5', 'urlToImage': None, 'publishedAt': '2023-04-07T12:31:10Z', 'content': None}, {'source': {'id': 'google-news', 'name': 'Google News'}, 'author': 'Free Malaysia Today', 'title': 'MACC arrests govt agency CEO over alleged RM600,000 bribe - Free Malaysia Today', 'description': None, 'url': 'https://news.google.com/rss/articles/CBMidmh0dHBzOi8vd3d3LmZyZWVtYWxheXNpYXRvZGF5LmNvbS9jYXRlZ29yeS9uYXRpb24vMjAyMy8wNC8wNy9tYWNjLWFycmVzdHMtZ292dC1hZ2VuY3ktY2VvLW92ZXItYWxsZWdlZC1ybTYwMDAwMC1icmliZS_SAQA?oc=5', 'urlToImage': None, 'publishedAt': '2023-04-07T12:28:27Z', 'content': None}, {'source': {'id': 'google-news', 'name': 'Google News'}, 'author': 'The Star Online', 'title': \"'Young and energetic' Macron wins Chinese fans - The Star Online\", 'description': None, 'url': 'https://news.google.com/rss/articles/CBMicWh0dHBzOi8vd3d3LnRoZXN0YXIuY29tLm15L2FzZWFucGx1cy9hc2VhbnBsdXMtbmV3cy8yMDIzLzA0LzA3LzAzOXlvdW5nLWFuZC1lbmVyZ2V0aWMwMzktbWFjcm9uLXdpbnMtY2hpbmVzZS1mYW5z0gEA?oc=5', 'urlToImage': None, 'publishedAt': '2023-04-07T12:13:00Z', 'content': None}]}\n"
          ]
        }
      ]
    },
    {
      "cell_type": "code",
      "source": [
        "# Save data to CSV\n",
        "with open('/content/drive/MyDrive/news.csv', mode='w', newline='', encoding='utf-8') as file:\n",
        "    writer = csv.writer(file)\n",
        "    writer.writerow(['ID','Name', 'Author', 'Title', 'Description', 'URL', 'URL To Image', 'Published At', 'Content'])\n",
        "    for article in data['articles']:\n",
        "        writer.writerow([article['source']['id'], article['source']['name'], article['author'], article['title'], article['description'], article['url'], article['urlToImage'], article['publishedAt'], article['content']])\n",
        "\n",
        "print('Data saved to news.csv')"
      ],
      "metadata": {
        "colab": {
          "base_uri": "https://localhost:8080/"
        },
        "id": "HaBkeymQEAmo",
        "outputId": "392f2b34-e2a6-4b87-f561-8108546756fb"
      },
      "execution_count": 48,
      "outputs": [
        {
          "output_type": "stream",
          "name": "stdout",
          "text": [
            "Data saved to news.csv\n"
          ]
        }
      ]
    }
  ]
}